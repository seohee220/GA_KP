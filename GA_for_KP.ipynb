{
 "cells": [
  {
   "cell_type": "markdown",
   "metadata": {},
   "source": [
    "<img src=\"images/knapsack.png\" width=\"400px\">\n",
    "- Maximize the sum of the values of the items in the knapsack\n",
    "- The sum of the weights is less than or equal to the knapsack's capacity\n",
    "\n",
    "<!---\n",
    "reference\n",
    "https:'/'/github.com'/KendallPark'/genetic-algorithm\n",
    "-->"
   ]
  },
  {
   "cell_type": "markdown",
   "metadata": {},
   "source": [
    "$$max \\sum c_i x_i$$\n",
    "$$s.t.\\sum a_i x_i \\le b $$\n",
    "$$ x_i \\in {0,1} \\forall i $$"
   ]
  },
  {
   "cell_type": "markdown",
   "metadata": {},
   "source": [
    "# Datas\n",
    "source : Pisinger, D. (2005). \"Where are the hard knapsack problems?\" <i>Computers & Operations Research</i>"
   ]
  },
  {
   "cell_type": "code",
   "execution_count": 2,
   "metadata": {
    "collapsed": true
   },
   "outputs": [],
   "source": [
    "def makeProbs(datafile):\n",
    "    f = open(datafile,'r')\n",
    "    lines = f.readlines()\n",
    "\n",
    "    probs = []\n",
    "\n",
    "    prob = []\n",
    "    for line in lines:\n",
    "        line = line.rstrip()\n",
    "\n",
    "        if line.startswith('-----'):\n",
    "            probs.append(prob)\n",
    "            prob = []\n",
    "        elif line != '':\n",
    "            prob.append(line)\n",
    "\n",
    "    return [makeProb(p) for p in probs]\n",
    "        \n",
    "def sort_desc_by_a(c, a, sol):\n",
    "    sorted_idx = sorted(range(len(a)),key=lambda x:a[x], reverse=True)\n",
    "    new_a = [a[si] for si in sorted_idx]\n",
    "    new_c = [c[si] for si in sorted_idx]\n",
    "    new_sol = [sol[si] for si in sorted_idx]\n",
    "    d = [int(na*0.3) for na in new_a]\n",
    "    return new_c, new_a, new_sol, d\n",
    "\n",
    "def makeProb(dat):\n",
    "    info = []\n",
    "    for dp in dat[1:5]:\n",
    "        info.append(float(dp.split()[1]))\n",
    "    \n",
    "    item = []\n",
    "    for d in dat[5:]:\n",
    "        a = d.split(',')\n",
    "        a = map(int,a)\n",
    "        item.append(a)\n",
    "    \n",
    "    c = [it[1] for it in item]\n",
    "    a = [it[2] for it in item]\n",
    "    sol = [it[3] for it in item]\n",
    "    sorted_c, sorted_a, sorted_sol, sorted_d = sort_desc_by_a(c,a,sol)\n",
    "    a_d = [sorted_a[i]+sorted_d[i] for i in range(len(a))]\n",
    "    \n",
    "    return {\n",
    "        'n': int(info[0]),\n",
    "        'b': int(info[1]),\n",
    "        'optval': int(info[2]),\n",
    "        'c' : sorted_c, \n",
    "        'a' : sorted_a,\n",
    "        'sol' : sorted_sol,\n",
    "        'd' : sorted_d\n",
    "        \n",
    "    }"
   ]
  },
  {
   "cell_type": "code",
   "execution_count": 3,
   "metadata": {
    "collapsed": true
   },
   "outputs": [],
   "source": [
    "probs = makeProbs('./datasets/knapPI_1_50_1000.csv')"
   ]
  },
  {
   "cell_type": "markdown",
   "metadata": {},
   "source": [
    "# Genetic Algorithm"
   ]
  },
  {
   "cell_type": "markdown",
   "metadata": {},
   "source": [
    "1. [Initialization] popSize개의 chromosomes(individuals) 생성\n",
    "2. [Fitness] (1)에서 생성된 각 individual의 fitness value 구하기\n",
    "3. [New population] 다음 과정에 따라 새로운 population 생성\n",
    "    1. [Selection] fitness value가 가장 좋은 두개의 parent individuals 선택. (the better fitness, the bigger chance to be selected)\n",
    "    2. [Crossover] (3-A)에서 선택한 두 개의 parent individuals로 child individual 생성. (single-point crossover)\n",
    "    3. [Mutation] (3-2)의 individual의 각 gene을 주어진 mutation 확률로 돌연변이 시키기. (0->1, 1->0)\n",
    "4. [Replace] Use new generated population for a further run of algorithm\n",
    "5. [Test] 종료조건 만족하면 과정을 멈추고 현재 population의 가장 좋은 솔루션 리턴. \n",
    "6. [Loop] (2)로 돌아가기"
   ]
  },
  {
   "cell_type": "code",
   "execution_count": 73,
   "metadata": {
    "collapsed": true
   },
   "outputs": [],
   "source": [
    "import random\n",
    "import numpy as np\n",
    "import time"
   ]
  },
  {
   "cell_type": "code",
   "execution_count": 44,
   "metadata": {
    "collapsed": true
   },
   "outputs": [],
   "source": [
    "def knapsack(V, W, MAX, popSize, mut, maxGen, percent):\n",
    "    generation = 0\n",
    "    pop = generate(V, popSize) # 1.Initialization\n",
    "    fitness = getFitness(pop, V, W, MAX) # 2.Fitness\n",
    "    while(not test(fitness, percent) and generation < maxGen): # 5.Test : 주어진 percent만큼 convergence 되거나, maxGen만큼 generation 돌았거나\n",
    "        generation += 1\n",
    "        pop = newPopulation(pop, fitness, mut) # 3.New population,  4. Replace\n",
    "        fitness = getFitness(pop, V, W, MAX)\n",
    "    return selectElite(pop, fitness)\n",
    "\n",
    "# initial population 생성\n",
    "def generate(V, popSize):\n",
    "    length = len(V)\n",
    "    pop = [[random.randint(0,1) for i in range(length)] for j in range(popSize)] # 각 gene 0,1 중 랜덤하게 선택\n",
    "    # pop\n",
    "    # [[1,0,0,1],\n",
    "    #  [0,1,1,1]...]\n",
    "    return pop\n",
    "\n",
    "# 각 individual의 sum(c) 값 return\n",
    "def getFitness(pop, V, W, MAX):\n",
    "    fitness = []\n",
    "    for i in range(len(pop)): #100\n",
    "        weight = 0\n",
    "        volume = MAX+1\n",
    "        while (volume > MAX):\n",
    "            weight = 0\n",
    "            volume = 0\n",
    "            ones = []\n",
    "            for j in range(len(pop[i])): #아이템개수만큼 돌기 (i번째population)\n",
    "                if pop[i][j] == 1: #선택하면\n",
    "                    volume += V[j]\n",
    "                    weight += W[j]\n",
    "                    ones += [j]\n",
    "            if volume > MAX: #용량초과되면 선택(1)된것 중 하나 안선택(0)으로 바꿔\n",
    "                pop[i][ones[random.randint(0, len(ones)-1)]] = 0\n",
    "        fitness += [weight]\n",
    "    return fitness\n",
    "\n",
    "\n",
    "def newPopulation(pop, fit, mut):\n",
    "    popSize = len(pop)\n",
    "    newPop = []\n",
    "    newPop += [selectElite(pop, fit)]\n",
    "    while(len(newPop) < popSize):\n",
    "        (mate1, mate2) = select(pop, fit) # 3-A.Selection\n",
    "        newPop += [mutate(crossover(mate1, mate2), mut)] # 3-B.Crossover, 3-C.Mutation\n",
    "    return newPop\n",
    "\n",
    "# population 중 fit 값이 가장 좋은 거 하나 return\n",
    "def selectElite(pop, fit):\n",
    "    elite = 0\n",
    "    for i in range(len(fit)):\n",
    "        if fit[i] > fit[elite]:\n",
    "            elite = i\n",
    "    return pop[elite]\n",
    "\n",
    "# fit이 가장 좋은 두개 gene return \n",
    "def select(pop, fit):\n",
    "    size = len(pop)\n",
    "    totalFit = sum(fit)\n",
    "    lucky = random.randint(0, totalFit)\n",
    "    tempSum = 0\n",
    "    mate1 = []\n",
    "    fit1 = 0\n",
    "    for i in range(size):\n",
    "        tempSum += fit[i]\n",
    "        if tempSum >= lucky:\n",
    "            mate1 = pop.pop(i) # tempsum이 lucky를 넘게 한 gene\n",
    "            fit1 = fit.pop(i) #         ( = )           gene의 fit\n",
    "            break\n",
    "    \n",
    "    tempSum = 0\n",
    "    lucky = random.randint(0, sum(fit)) \n",
    "    for i in range(len(pop)):\n",
    "        tempSum += fit[i]\n",
    "        if tempSum >= lucky:\n",
    "            mate2 = pop[i]\n",
    "            pop += [mate1] # pop 복구\n",
    "            fit += [fit1]  # fit 복구\n",
    "            return (mate1, mate2)\n",
    "\n",
    "# crossover할 포인트 random으로 선택 후 crossover // 하나의 child gene return.\n",
    "def crossover(mate1, mate2):\n",
    "    lucky = random.randint(0, len(mate1)-1)\n",
    "    return mate1[:lucky]+mate2[lucky:]\n",
    "  \n",
    "# 1/mutate 확률로 1->0, 0->1\n",
    "def mutate(gene, mutate):\n",
    "    for i in range(len(gene)):\n",
    "        lucky = random.randint(1, mutate)\n",
    "        if lucky == 1:\n",
    "            gene[i] = bool(gene[i])^1 #1->0, 0->1\n",
    "    return gene\n",
    "\n",
    "# fit 중 최빈값의 비율이 rate 이상이면 true.\n",
    "def test(fit, rate):\n",
    "    maxCount = mode(fit)\n",
    "#     print 'mode rate',float(maxCount)/float(len(fit)), rate\n",
    "    if float(maxCount)/float(len(fit)) >= rate:\n",
    "        return True\n",
    "    else:\n",
    "        return False\n",
    "\n",
    "# 최빈값\n",
    "def mode(fit): \n",
    "    values = set(fit) #중복 제거\n",
    "    maxCount = 0\n",
    "    for i in values:\n",
    "        if maxCount < fit.count(i):\n",
    "            maxCount = fit.count(i)\n",
    "    return maxCount #fitness 값 중, 가장 많은 값의 개수를 리턴\n",
    "\n",
    "def answer(solution, A, C, b):\n",
    "    sum_of_weights = np.dot(solution,A)\n",
    "    if sum_of_weights<=b:\n",
    "        feasible=True\n",
    "    else:\n",
    "        feasible=False\n",
    "    optval =  np.dot(solution,C)\n",
    "    \n",
    "    if feasible:\n",
    "        print 'GA Feasible'\n",
    "        print 'GA best value : ',optval\n",
    "    else:\n",
    "        print 'GA Infeasible'"
   ]
  },
  {
   "cell_type": "markdown",
   "metadata": {},
   "source": [
    "### excercise 1"
   ]
  },
  {
   "cell_type": "code",
   "execution_count": 45,
   "metadata": {
    "collapsed": false,
    "scrolled": true
   },
   "outputs": [
    {
     "name": "stdout",
     "output_type": "stream",
     "text": [
      "[1, 1, 1, 0]\n",
      "GA Feasible\n",
      "GA best value :  70\n"
     ]
    }
   ],
   "source": [
    "size = 4\n",
    "A = [10,5,5,20] # a\n",
    "C = [40,20,10,50] # c\n",
    "b = 20\n",
    "popSize = 100\n",
    "mut = 100 # 1/mut 확률로 mutation\n",
    "maxGen = 10*size\n",
    "percent = 0.9\n",
    "final_solution = knapsack(A, C, b, popSize, mut, maxGen, percent) \n",
    "print final_solution\n",
    "answer(final_solution, A, C, b)"
   ]
  },
  {
   "cell_type": "markdown",
   "metadata": {},
   "source": [
    "# DP algorithm"
   ]
  },
  {
   "cell_type": "code",
   "execution_count": 61,
   "metadata": {
    "collapsed": true
   },
   "outputs": [],
   "source": [
    "def dp(r, lmd, c, a):\n",
    "    k = np.zeros((lmd+1, r+1))\n",
    "    \n",
    "    for i in range(lmd+1):\n",
    "        for j in range(1,r+1):\n",
    "            if i<a[j]: pick = 0\n",
    "            else: pick = c[j]\n",
    "            k[i][j] = max(k[i][j-1], pick+k[i-a[j]][j-1])\n",
    "    return k[-1][-1]"
   ]
  },
  {
   "cell_type": "code",
   "execution_count": 77,
   "metadata": {
    "collapsed": false
   },
   "outputs": [
    {
     "name": "stdout",
     "output_type": "stream",
     "text": [
      "GA Feasible\n",
      "GA best value :  4970\n",
      "DP Optimal value :  5847.0\n",
      "Optimal value :  5847\n",
      "\n",
      "GA time :  0.461004018784\n",
      "DP time :  0.0605928897858\n"
     ]
    }
   ],
   "source": [
    "problem = probs[1]\n",
    "n = problem['n']\n",
    "A = problem['a']\n",
    "C = problem['c']\n",
    "b = problem['b']\n",
    "sol = problem['sol']\n",
    "optval = problem['optval']\n",
    "\n",
    "popSize = 100\n",
    "mut = 100 # 1/mut 확률로 mutation\n",
    "maxGen = 10*size\n",
    "percent = 0.9\n",
    "\n",
    "ga_time_before = time.time()\n",
    "final_solution = knapsack(A, C, b, popSize, mut, maxGen, percent)\n",
    "ga_time = time.time()-ga_time_before\n",
    "\n",
    "dp_time_before = time.time()\n",
    "dp_opt_val = dp(n,b,[0]+C,[0]+A)\n",
    "dp_time = time.time()-dp_time_before\n",
    "\n",
    "# print final_solution\n",
    "answer(final_solution, A, C, b)\n",
    "print 'DP Optimal value : ',dp_opt_val\n",
    "# print sol\n",
    "print 'Optimal value : ', optval\n",
    "print ''\n",
    "print 'GA time : ',ga_time\n",
    "print 'DP time : ',dp_time"
   ]
  }
 ],
 "metadata": {
  "anaconda-cloud": {},
  "kernelspec": {
   "display_name": "Python [default]",
   "language": "python",
   "name": "python2"
  },
  "language_info": {
   "codemirror_mode": {
    "name": "ipython",
    "version": 2
   },
   "file_extension": ".py",
   "mimetype": "text/x-python",
   "name": "python",
   "nbconvert_exporter": "python",
   "pygments_lexer": "ipython2",
   "version": "2.7.13"
  }
 },
 "nbformat": 4,
 "nbformat_minor": 2
}
